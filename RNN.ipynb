{
 "cells": [
  {
   "cell_type": "code",
   "execution_count": 1,
   "metadata": {},
   "outputs": [],
   "source": [
    "import math\n",
    "import random\n",
    "import pandas as pd\n",
    "import numpy as np\n",
    "import matplotlib.pyplot as plt\n",
    "import tensorflow as tf\n",
    "from sklearn.preprocessing import StandardScaler\n",
    "from sklearn.model_selection import train_test_split\n",
    "from sklearn.metrics import roc_curve, auc\n",
    "from tqdm import tqdm\n",
    "from util import load_events, plot_event, create_tracklets, predict_tracklets, create_seeds"
   ]
  },
  {
   "cell_type": "markdown",
   "metadata": {},
   "source": [
    "## LSTM for classification\n",
    "#### (called many-to-one LSTM)"
   ]
  },
  {
   "cell_type": "code",
   "execution_count": 2,
   "metadata": {},
   "outputs": [
    {
     "name": "stdout",
     "output_type": "stream",
     "text": [
      "Stations selected are:  [1 2 3 4 5 6]\n"
     ]
    }
   ],
   "source": [
    "events = load_events('toy_dataset.csv', chamber_id=None, start=0, end=2000)"
   ]
  },
  {
   "cell_type": "code",
   "execution_count": 3,
   "metadata": {},
   "outputs": [],
   "source": [
    "def pad(arr, off=0):\n",
    "    '''\n",
    "    Pad the seqence with zeros to be of required length\n",
    "    Arguments:\n",
    "    1. arr (nd.array) : A given numpy array\n",
    "    2. off (int) : offset, how many entries should be padded ?\n",
    "    '''\n",
    "    if off>0:\n",
    "        updated = np.vstack([arr, np.zeros((off,3))])\n",
    "        return updated\n",
    "    else:\n",
    "        return arr\n",
    "\n",
    "def create_tracklets(events):\n",
    "    '''\n",
    "    A function to create tracklets\n",
    "    Arguments:\n",
    "    1. events (list) : A list of events\n",
    "    '''\n",
    "    X = []\n",
    "    y = []\n",
    "    for event in tqdm(range(len(events))):\n",
    "        df = events[event]\n",
    "        if df.empty: continue      \n",
    "        particle_ids = np.unique(df.particle_id.values)\n",
    "        df = df[['x','z','a']+['chamber_id','particle_id']]\n",
    "\n",
    "        df_1 = df.loc[(df.chamber_id==1) | (df.chamber_id==2)]\n",
    "        df_2 = df.loc[(df.chamber_id==3) | (df.chamber_id==4)]\n",
    "\n",
    "        list_df_1 = []\n",
    "        list_df_2 = []\n",
    "        \n",
    "        for j in particle_ids:\n",
    "            track_df_1 = df_1.loc[df_1.particle_id==j, df_1.columns.values]\n",
    "            track_df_2 = df_2.loc[df_2.particle_id==j, df_2.columns.values]\n",
    "\n",
    "            track_df_1 = track_df_1.drop(['particle_id','chamber_id'], axis=1)\n",
    "            list_df_1.append((track_df_1,j))\n",
    "            track_df_2 = track_df_2.drop(['particle_id','chamber_id'], axis=1)\n",
    "            list_df_2.append((track_df_2,j))             \n",
    "\n",
    "            scaler = StandardScaler()\n",
    "            for df1, pid1 in list_df_1:\n",
    "                for df2, pid2 in list_df_2:\n",
    "\n",
    "                    data = pd.concat([df1,df2], axis=0)\n",
    "                    offset = 24-data.shape[0] # 24 is a perfect track with the correct number of hits\n",
    "                    if offset<0: continue\n",
    "                    data = pad(data, offset)\n",
    "                    data = scaler.fit_transform(data)\n",
    "                    X.append(data)\n",
    "                    y.append([int(pid1==pid2)])                \n",
    "\n",
    "    X = np.stack(X)\n",
    "    y = np.stack(y)\n",
    "    return X, y"
   ]
  },
  {
   "cell_type": "code",
   "execution_count": 4,
   "metadata": {},
   "outputs": [
    {
     "name": "stderr",
     "output_type": "stream",
     "text": [
      "100%|██████████| 2000/2000 [01:44<00:00, 19.12it/s]\n"
     ]
    }
   ],
   "source": [
    "# create training set\n",
    "X, y = create_tracklets(events)"
   ]
  },
  {
   "cell_type": "code",
   "execution_count": 5,
   "metadata": {},
   "outputs": [
    {
     "data": {
      "text/plain": [
       "((115934, 24, 3), (115934, 1))"
      ]
     },
     "execution_count": 5,
     "metadata": {},
     "output_type": "execute_result"
    }
   ],
   "source": [
    "# invistigate the shaep (batch_size, time_steps, features)\n",
    "X.shape, y.shape"
   ]
  },
  {
   "cell_type": "code",
   "execution_count": 6,
   "metadata": {},
   "outputs": [
    {
     "name": "stdout",
     "output_type": "stream",
     "text": [
      "Model: \"sequential\"\n",
      "_________________________________________________________________\n",
      "Layer (type)                 Output Shape              Param #   \n",
      "=================================================================\n",
      "lstm (LSTM)                  (None, None, 100)         41600     \n",
      "_________________________________________________________________\n",
      "dropout (Dropout)            (None, None, 100)         0         \n",
      "_________________________________________________________________\n",
      "lstm_1 (LSTM)                (None, 50)                30200     \n",
      "_________________________________________________________________\n",
      "dense (Dense)                (None, 1)                 51        \n",
      "=================================================================\n",
      "Total params: 71,851\n",
      "Trainable params: 71,851\n",
      "Non-trainable params: 0\n",
      "_________________________________________________________________\n"
     ]
    }
   ],
   "source": [
    "# LSTM model for classification\n",
    "model = tf.keras.models.Sequential([\n",
    "  tf.keras.layers.LSTM(100, return_sequences=True, input_shape=(None, 3)),\n",
    "  tf.keras.layers.Dropout(0.05),\n",
    "  tf.keras.layers.LSTM(50), \n",
    "  tf.keras.layers.Dense(1, activation='sigmoid')\n",
    "])\n",
    "\n",
    "model.compile(optimizer='adam',loss='binary_crossentropy', metrics=['accuracy'])\n",
    "model.summary()"
   ]
  },
  {
   "cell_type": "code",
   "execution_count": 7,
   "metadata": {},
   "outputs": [],
   "source": [
    "# random splitting\n",
    "X_train, X_test, y_train, y_test = train_test_split(X, y, \n",
    "                                                    test_size=0.1, \n",
    "                                                    random_state=1, \n",
    "                                                    shuffle=True, \n",
    "                                                    stratify=y)"
   ]
  },
  {
   "cell_type": "code",
   "execution_count": 8,
   "metadata": {},
   "outputs": [
    {
     "name": "stdout",
     "output_type": "stream",
     "text": [
      "Epoch 1/10\n",
      "23/23 [==============================] - 32s 1s/step - loss: 0.5748 - accuracy: 0.7294 - val_loss: 0.5155 - val_accuracy: 0.7484\n",
      "Epoch 2/10\n",
      "23/23 [==============================] - 31s 1s/step - loss: 0.3343 - accuracy: 0.8446 - val_loss: 0.2069 - val_accuracy: 0.9326\n",
      "Epoch 3/10\n",
      "23/23 [==============================] - 30s 1s/step - loss: 0.2063 - accuracy: 0.9148 - val_loss: 0.2036 - val_accuracy: 0.9384\n",
      "Epoch 4/10\n",
      "23/23 [==============================] - 32s 1s/step - loss: 0.1694 - accuracy: 0.9402 - val_loss: 0.1620 - val_accuracy: 0.9414\n",
      "Epoch 5/10\n",
      "23/23 [==============================] - 30s 1s/step - loss: 0.1962 - accuracy: 0.9313 - val_loss: 0.1776 - val_accuracy: 0.9464\n",
      "Epoch 6/10\n",
      "23/23 [==============================] - 30s 1s/step - loss: 0.1419 - accuracy: 0.9547 - val_loss: 0.1701 - val_accuracy: 0.9450\n",
      "Epoch 7/10\n",
      "23/23 [==============================] - 30s 1s/step - loss: 0.1332 - accuracy: 0.9592 - val_loss: 0.1422 - val_accuracy: 0.9551\n",
      "Epoch 8/10\n",
      "23/23 [==============================] - 31s 1s/step - loss: 0.1184 - accuracy: 0.9627 - val_loss: 0.1184 - val_accuracy: 0.9633\n",
      "Epoch 9/10\n",
      "23/23 [==============================] - 30s 1s/step - loss: 0.1198 - accuracy: 0.9632 - val_loss: 0.1563 - val_accuracy: 0.9523\n",
      "Epoch 10/10\n",
      "23/23 [==============================] - 30s 1s/step - loss: 0.1848 - accuracy: 0.9340 - val_loss: 0.1742 - val_accuracy: 0.9315\n"
     ]
    }
   ],
   "source": [
    "history = model.fit(X_train, y_train, epochs=10, batch_size=4096, validation_split=0.10)"
   ]
  },
  {
   "cell_type": "code",
   "execution_count": 9,
   "metadata": {},
   "outputs": [
    {
     "name": "stdout",
     "output_type": "stream",
     "text": [
      "Evaluate on test data\n",
      "12/12 [==============================] - 2s 161ms/step - loss: 0.1467 - accuracy: 0.9422\n"
     ]
    }
   ],
   "source": [
    "# Evaluate the model on the test data using `evaluate`\n",
    "print('Evaluate on test data')\n",
    "results = model.evaluate(X_test, y_test, batch_size=1024)"
   ]
  },
  {
   "cell_type": "code",
   "execution_count": 10,
   "metadata": {},
   "outputs": [
    {
     "data": {
      "image/png": "[encoded data removed]",
      "text/plain": [
       "<Figure size 432x288 with 1 Axes>"
      ]
     },
     "metadata": {
      "needs_background": "light"
     },
     "output_type": "display_data"
    }
   ],
   "source": [
    "# plot ROC curve\n",
    "y_pred = model.predict(X_test)\n",
    "# create ROC curve\n",
    "fpr, tpr, threshold = roc_curve(y_test[:], y_pred[:])\n",
    "    \n",
    "# plot ROC curve\n",
    "plt.figure()\n",
    "plt.plot(tpr, fpr, lw=2.5, label=\"AUC = {:.1f}%\".format(auc(fpr,tpr)*100))\n",
    "plt.xlabel(r'True positive rate', fontsize=20)\n",
    "plt.ylabel(r'False positive rate', fontsize=20)\n",
    "plt.xticks(fontsize=15)\n",
    "plt.yticks(fontsize=15)\n",
    "plt.legend(loc='upper left', fontsize=20)\n",
    "plt.tight_layout()"
   ]
  },
  {
   "cell_type": "code",
   "execution_count": 11,
   "metadata": {},
   "outputs": [],
   "source": [
    "# lets predict on one event\n",
    "df = events[10]\n",
    "X, hit_ids, ypred = predict_tracklets(df, model)"
   ]
  },
  {
   "cell_type": "code",
   "execution_count": 12,
   "metadata": {
    "scrolled": true
   },
   "outputs": [
    {
     "data": {
      "text/plain": [
       "array([[  0,   1,   2,   3,   4,   5,   6,   7,   8,   9,  10,  11,  12,\n",
       "         13,  14,  15],\n",
       "       [  0,   1,   2,   3,   4,   5,   6,   7,  32,  33,  34,  35,  36,\n",
       "         37,  38,  39],\n",
       "       [  0,   1,   2,   3,   4,   5,   6,   7,  56,  57,  58,  59,  60,\n",
       "         61,  62,  63],\n",
       "       [  0,   1,   2,   3,   4,   5,   6,   7,  80,  81,  82,  83,  84,\n",
       "         85,  86,  87],\n",
       "       [  0,   1,   2,   3,   4,   5,   6,   7, 104, 105, 106, 107, 108,\n",
       "        109, 110, 111],\n",
       "       [  0,   1,   2,   3,   4,   5,   6,   7, 128, 129, 130, 131, 132,\n",
       "        133, 134, 135],\n",
       "       [  0,   1,   2,   3,   4,   5,   6,   7, 152, 153, 154, 155, 156,\n",
       "        157, 158, 159],\n",
       "       [ 24,  25,  26,  27,  28,  29,  30,  31,   8,   9,  10,  11,  12,\n",
       "         13,  14,  15],\n",
       "       [ 24,  25,  26,  27,  28,  29,  30,  31,  32,  33,  34,  35,  36,\n",
       "         37,  38,  39],\n",
       "       [ 24,  25,  26,  27,  28,  29,  30,  31,  56,  57,  58,  59,  60,\n",
       "         61,  62,  63],\n",
       "       [ 24,  25,  26,  27,  28,  29,  30,  31,  80,  81,  82,  83,  84,\n",
       "         85,  86,  87],\n",
       "       [ 24,  25,  26,  27,  28,  29,  30,  31, 104, 105, 106, 107, 108,\n",
       "        109, 110, 111],\n",
       "       [ 24,  25,  26,  27,  28,  29,  30,  31, 128, 129, 130, 131, 132,\n",
       "        133, 134, 135],\n",
       "       [ 24,  25,  26,  27,  28,  29,  30,  31, 152, 153, 154, 155, 156,\n",
       "        157, 158, 159],\n",
       "       [ 48,  49,  50,  51,  52,  53,  54,  55,   8,   9,  10,  11,  12,\n",
       "         13,  14,  15],\n",
       "       [ 48,  49,  50,  51,  52,  53,  54,  55,  32,  33,  34,  35,  36,\n",
       "         37,  38,  39],\n",
       "       [ 48,  49,  50,  51,  52,  53,  54,  55,  56,  57,  58,  59,  60,\n",
       "         61,  62,  63],\n",
       "       [ 48,  49,  50,  51,  52,  53,  54,  55,  80,  81,  82,  83,  84,\n",
       "         85,  86,  87],\n",
       "       [ 48,  49,  50,  51,  52,  53,  54,  55, 104, 105, 106, 107, 108,\n",
       "        109, 110, 111],\n",
       "       [ 48,  49,  50,  51,  52,  53,  54,  55, 128, 129, 130, 131, 132,\n",
       "        133, 134, 135],\n",
       "       [ 48,  49,  50,  51,  52,  53,  54,  55, 152, 153, 154, 155, 156,\n",
       "        157, 158, 159],\n",
       "       [ 72,  73,  74,  75,  76,  77,  78,  79,   8,   9,  10,  11,  12,\n",
       "         13,  14,  15],\n",
       "       [ 72,  73,  74,  75,  76,  77,  78,  79,  32,  33,  34,  35,  36,\n",
       "         37,  38,  39],\n",
       "       [ 72,  73,  74,  75,  76,  77,  78,  79,  56,  57,  58,  59,  60,\n",
       "         61,  62,  63],\n",
       "       [ 72,  73,  74,  75,  76,  77,  78,  79,  80,  81,  82,  83,  84,\n",
       "         85,  86,  87],\n",
       "       [ 72,  73,  74,  75,  76,  77,  78,  79, 104, 105, 106, 107, 108,\n",
       "        109, 110, 111],\n",
       "       [ 72,  73,  74,  75,  76,  77,  78,  79, 128, 129, 130, 131, 132,\n",
       "        133, 134, 135],\n",
       "       [ 72,  73,  74,  75,  76,  77,  78,  79, 152, 153, 154, 155, 156,\n",
       "        157, 158, 159],\n",
       "       [ 96,  97,  98,  99, 100, 101, 102, 103,   8,   9,  10,  11,  12,\n",
       "         13,  14,  15],\n",
       "       [ 96,  97,  98,  99, 100, 101, 102, 103,  32,  33,  34,  35,  36,\n",
       "         37,  38,  39],\n",
       "       [ 96,  97,  98,  99, 100, 101, 102, 103,  56,  57,  58,  59,  60,\n",
       "         61,  62,  63],\n",
       "       [ 96,  97,  98,  99, 100, 101, 102, 103,  80,  81,  82,  83,  84,\n",
       "         85,  86,  87],\n",
       "       [ 96,  97,  98,  99, 100, 101, 102, 103, 104, 105, 106, 107, 108,\n",
       "        109, 110, 111],\n",
       "       [ 96,  97,  98,  99, 100, 101, 102, 103, 128, 129, 130, 131, 132,\n",
       "        133, 134, 135],\n",
       "       [ 96,  97,  98,  99, 100, 101, 102, 103, 152, 153, 154, 155, 156,\n",
       "        157, 158, 159],\n",
       "       [120, 121, 122, 123, 124, 125, 126, 127,   8,   9,  10,  11,  12,\n",
       "         13,  14,  15],\n",
       "       [120, 121, 122, 123, 124, 125, 126, 127,  32,  33,  34,  35,  36,\n",
       "         37,  38,  39],\n",
       "       [120, 121, 122, 123, 124, 125, 126, 127,  56,  57,  58,  59,  60,\n",
       "         61,  62,  63],\n",
       "       [120, 121, 122, 123, 124, 125, 126, 127,  80,  81,  82,  83,  84,\n",
       "         85,  86,  87],\n",
       "       [120, 121, 122, 123, 124, 125, 126, 127, 104, 105, 106, 107, 108,\n",
       "        109, 110, 111],\n",
       "       [120, 121, 122, 123, 124, 125, 126, 127, 128, 129, 130, 131, 132,\n",
       "        133, 134, 135],\n",
       "       [120, 121, 122, 123, 124, 125, 126, 127, 152, 153, 154, 155, 156,\n",
       "        157, 158, 159],\n",
       "       [144, 145, 146, 147, 148, 149, 150, 151,   8,   9,  10,  11,  12,\n",
       "         13,  14,  15],\n",
       "       [144, 145, 146, 147, 148, 149, 150, 151,  32,  33,  34,  35,  36,\n",
       "         37,  38,  39],\n",
       "       [144, 145, 146, 147, 148, 149, 150, 151,  56,  57,  58,  59,  60,\n",
       "         61,  62,  63],\n",
       "       [144, 145, 146, 147, 148, 149, 150, 151,  80,  81,  82,  83,  84,\n",
       "         85,  86,  87],\n",
       "       [144, 145, 146, 147, 148, 149, 150, 151, 104, 105, 106, 107, 108,\n",
       "        109, 110, 111],\n",
       "       [144, 145, 146, 147, 148, 149, 150, 151, 128, 129, 130, 131, 132,\n",
       "        133, 134, 135],\n",
       "       [144, 145, 146, 147, 148, 149, 150, 151, 152, 153, 154, 155, 156,\n",
       "        157, 158, 159]])"
      ]
     },
     "execution_count": 12,
     "metadata": {},
     "output_type": "execute_result"
    }
   ],
   "source": [
    "hit_ids"
   ]
  },
  {
   "cell_type": "code",
   "execution_count": 13,
   "metadata": {},
   "outputs": [
    {
     "data": {
      "text/plain": [
       "array([ 0,  1,  3,  5,  8, 12, 16, 21, 22, 24, 26, 32, 36, 40, 48])"
      ]
     },
     "execution_count": 13,
     "metadata": {},
     "output_type": "execute_result"
    }
   ],
   "source": [
    "# what are the indices of the tracklets that pass the cut\n",
    "np.argwhere(ypred.flatten()>0.5).flatten()"
   ]
  },
  {
   "cell_type": "code",
   "execution_count": 14,
   "metadata": {},
   "outputs": [
    {
     "data": {
      "text/plain": [
       "(49, 16)"
      ]
     },
     "execution_count": 14,
     "metadata": {},
     "output_type": "execute_result"
    }
   ],
   "source": [
    "# hit_ids shape\n",
    "hit_ids.shape"
   ]
  },
  {
   "cell_type": "code",
   "execution_count": 15,
   "metadata": {
    "scrolled": true
   },
   "outputs": [
    {
     "data": {
      "text/plain": [
       "array([[  0,   1,   2,   3,   4,   5,   6,   7,   8,   9,  10,  11,  12,\n",
       "         13,  14,  15],\n",
       "       [  0,   1,   2,   3,   4,   5,   6,   7,  32,  33,  34,  35,  36,\n",
       "         37,  38,  39],\n",
       "       [  0,   1,   2,   3,   4,   5,   6,   7,  80,  81,  82,  83,  84,\n",
       "         85,  86,  87],\n",
       "       [  0,   1,   2,   3,   4,   5,   6,   7, 128, 129, 130, 131, 132,\n",
       "        133, 134, 135],\n",
       "       [ 24,  25,  26,  27,  28,  29,  30,  31,  32,  33,  34,  35,  36,\n",
       "         37,  38,  39],\n",
       "       [ 24,  25,  26,  27,  28,  29,  30,  31, 128, 129, 130, 131, 132,\n",
       "        133, 134, 135],\n",
       "       [ 48,  49,  50,  51,  52,  53,  54,  55,  56,  57,  58,  59,  60,\n",
       "         61,  62,  63],\n",
       "       [ 72,  73,  74,  75,  76,  77,  78,  79,   8,   9,  10,  11,  12,\n",
       "         13,  14,  15],\n",
       "       [ 72,  73,  74,  75,  76,  77,  78,  79,  32,  33,  34,  35,  36,\n",
       "         37,  38,  39],\n",
       "       [ 72,  73,  74,  75,  76,  77,  78,  79,  80,  81,  82,  83,  84,\n",
       "         85,  86,  87],\n",
       "       [ 72,  73,  74,  75,  76,  77,  78,  79, 128, 129, 130, 131, 132,\n",
       "        133, 134, 135],\n",
       "       [ 96,  97,  98,  99, 100, 101, 102, 103, 104, 105, 106, 107, 108,\n",
       "        109, 110, 111],\n",
       "       [120, 121, 122, 123, 124, 125, 126, 127,  32,  33,  34,  35,  36,\n",
       "         37,  38,  39],\n",
       "       [120, 121, 122, 123, 124, 125, 126, 127, 128, 129, 130, 131, 132,\n",
       "        133, 134, 135],\n",
       "       [144, 145, 146, 147, 148, 149, 150, 151, 152, 153, 154, 155, 156,\n",
       "        157, 158, 159]])"
      ]
     },
     "execution_count": 15,
     "metadata": {},
     "output_type": "execute_result"
    }
   ],
   "source": [
    "hit_ids[np.argwhere(ypred.flatten()>0.5).flatten(),:]"
   ]
  },
  {
   "cell_type": "code",
   "execution_count": 16,
   "metadata": {},
   "outputs": [],
   "source": [
    "# plot found track\n",
    "track_id  = hit_ids[np.argwhere(ypred.flatten()>0.5).flatten(),:]\n",
    "reco_track = df[df['hit_id'].isin(track_id[2])]"
   ]
  },
  {
   "cell_type": "code",
   "execution_count": 17,
   "metadata": {},
   "outputs": [
    {
     "data": {
      "text/plain": [
       "<matplotlib.legend.Legend at 0x7fc6ac2fcc70>"
      ]
     },
     "execution_count": 17,
     "metadata": {},
     "output_type": "execute_result"
    },
    {
     "data": {
      "image/png": "[encoded data removed]",
      "text/plain": [
       "<Figure size 432x288 with 1 Axes>"
      ]
     },
     "metadata": {
      "needs_background": "light"
     },
     "output_type": "display_data"
    }
   ],
   "source": [
    "plot_event(df)\n",
    "plt.scatter(reco_track.z, reco_track.x, s=200, facecolors='none', edgecolors='black', label='reco')\n",
    "plt.legend(fontsize=15)"
   ]
  },
  {
   "cell_type": "markdown",
   "metadata": {},
   "source": [
    "## LSTM for prediction\n",
    "#### (called many-to-many LSTM)"
   ]
  },
  {
   "cell_type": "code",
   "execution_count": 18,
   "metadata": {},
   "outputs": [
    {
     "name": "stderr",
     "output_type": "stream",
     "text": [
      "100%|██████████| 2000/2000 [00:14<00:00, 140.33it/s]\n"
     ]
    }
   ],
   "source": [
    "# a seed is a track of 4-hits in the first chamber\n",
    "X, y = create_seeds(events)"
   ]
  },
  {
   "cell_type": "code",
   "execution_count": 19,
   "metadata": {},
   "outputs": [
    {
     "data": {
      "text/plain": [
       "((9109, 4, 3), (9109, 4, 3))"
      ]
     },
     "execution_count": 19,
     "metadata": {},
     "output_type": "execute_result"
    }
   ],
   "source": [
    "# invistigate the shape\n",
    "X.shape, y.shape"
   ]
  },
  {
   "cell_type": "code",
   "execution_count": 20,
   "metadata": {},
   "outputs": [
    {
     "name": "stdout",
     "output_type": "stream",
     "text": [
      "Model: \"sequential_1\"\n",
      "_________________________________________________________________\n",
      "Layer (type)                 Output Shape              Param #   \n",
      "=================================================================\n",
      "lstm_2 (LSTM)                (None, None, 100)         41600     \n",
      "_________________________________________________________________\n",
      "dropout_1 (Dropout)          (None, None, 100)         0         \n",
      "_________________________________________________________________\n",
      "lstm_3 (LSTM)                (None, None, 50)          30200     \n",
      "_________________________________________________________________\n",
      "dropout_2 (Dropout)          (None, None, 50)          0         \n",
      "_________________________________________________________________\n",
      "time_distributed (TimeDistri (None, None, 3)           153       \n",
      "_________________________________________________________________\n",
      "activation (Activation)      (None, None, 3)           0         \n",
      "=================================================================\n",
      "Total params: 71,953\n",
      "Trainable params: 71,953\n",
      "Non-trainable params: 0\n",
      "_________________________________________________________________\n"
     ]
    }
   ],
   "source": [
    "# LSTM model for prediction\n",
    "model = tf.keras.models.Sequential([\n",
    "  tf.keras.layers.LSTM(100, return_sequences=True, input_shape=(None, 3)),\n",
    "  tf.keras.layers.Dropout(0.05),\n",
    "  tf.keras.layers.LSTM(50, return_sequences=True), \n",
    "  tf.keras.layers.Dropout(0.05),\n",
    "  tf.keras.layers.TimeDistributed(tf.keras.layers.Dense(3)),\n",
    "  tf.keras.layers.Activation('linear')\n",
    "])\n",
    "\n",
    "model.compile(optimizer='adam',loss='mse')\n",
    "model.summary()"
   ]
  },
  {
   "cell_type": "code",
   "execution_count": 21,
   "metadata": {
    "scrolled": true
   },
   "outputs": [
    {
     "name": "stdout",
     "output_type": "stream",
     "text": [
      "Epoch 1/200\n",
      "3/3 [==============================] - 1s 376ms/step - loss: 39.2854 - val_loss: 39.4613\n",
      "Epoch 2/200\n",
      "3/3 [==============================] - 0s 113ms/step - loss: 37.5709 - val_loss: 37.7654\n",
      "Epoch 3/200\n",
      "3/3 [==============================] - 0s 114ms/step - loss: 35.9307 - val_loss: 36.0733\n",
      "Epoch 4/200\n",
      "3/3 [==============================] - 0s 101ms/step - loss: 34.2987 - val_loss: 34.3807\n",
      "Epoch 5/200\n",
      "3/3 [==============================] - 0s 116ms/step - loss: 32.6522 - val_loss: 32.7071\n",
      "Epoch 6/200\n",
      "3/3 [==============================] - 0s 151ms/step - loss: 31.0175 - val_loss: 30.9985\n",
      "Epoch 7/200\n",
      "3/3 [==============================] - 0s 142ms/step - loss: 29.3631 - val_loss: 29.2913\n",
      "Epoch 8/200\n",
      "3/3 [==============================] - 0s 113ms/step - loss: 27.7263 - val_loss: 27.6426\n",
      "Epoch 9/200\n",
      "3/3 [==============================] - 0s 105ms/step - loss: 26.1195 - val_loss: 26.0338\n",
      "Epoch 10/200\n",
      "3/3 [==============================] - 0s 120ms/step - loss: 24.5956 - val_loss: 24.5000\n",
      "Epoch 11/200\n",
      "3/3 [==============================] - 0s 147ms/step - loss: 23.1246 - val_loss: 23.0396\n",
      "Epoch 12/200\n",
      "3/3 [==============================] - 0s 139ms/step - loss: 21.7077 - val_loss: 21.6739\n",
      "Epoch 13/200\n",
      "3/3 [==============================] - 0s 116ms/step - loss: 20.3948 - val_loss: 20.4075\n",
      "Epoch 14/200\n",
      "3/3 [==============================] - 0s 139ms/step - loss: 19.1942 - val_loss: 19.2784\n",
      "Epoch 15/200\n",
      "3/3 [==============================] - 0s 113ms/step - loss: 18.1385 - val_loss: 18.2977\n",
      "Epoch 16/200\n",
      "3/3 [==============================] - 0s 127ms/step - loss: 17.2123 - val_loss: 17.4147\n",
      "Epoch 17/200\n",
      "3/3 [==============================] - 1s 182ms/step - loss: 16.3901 - val_loss: 16.6026\n",
      "Epoch 18/200\n",
      "3/3 [==============================] - 0s 113ms/step - loss: 15.6268 - val_loss: 15.9140\n",
      "Epoch 19/200\n",
      "3/3 [==============================] - 0s 90ms/step - loss: 14.9783 - val_loss: 15.3252\n",
      "Epoch 20/200\n",
      "3/3 [==============================] - 0s 96ms/step - loss: 14.4327 - val_loss: 14.7918\n",
      "Epoch 21/200\n",
      "3/3 [==============================] - 0s 88ms/step - loss: 13.9291 - val_loss: 14.3176\n",
      "Epoch 22/200\n",
      "3/3 [==============================] - 0s 95ms/step - loss: 13.4821 - val_loss: 13.8881\n",
      "Epoch 23/200\n",
      "3/3 [==============================] - 0s 116ms/step - loss: 13.0859 - val_loss: 13.4765\n",
      "Epoch 24/200\n",
      "3/3 [==============================] - 0s 115ms/step - loss: 12.6952 - val_loss: 13.0592\n",
      "Epoch 25/200\n",
      "3/3 [==============================] - 0s 89ms/step - loss: 12.2842 - val_loss: 12.6280\n",
      "Epoch 26/200\n",
      "3/3 [==============================] - 0s 122ms/step - loss: 11.8565 - val_loss: 12.2018\n",
      "Epoch 27/200\n",
      "3/3 [==============================] - 0s 123ms/step - loss: 11.4654 - val_loss: 11.7753\n",
      "Epoch 28/200\n",
      "3/3 [==============================] - 0s 149ms/step - loss: 11.0377 - val_loss: 11.3324\n",
      "Epoch 29/200\n",
      "3/3 [==============================] - 0s 126ms/step - loss: 10.6356 - val_loss: 10.8809\n",
      "Epoch 30/200\n",
      "3/3 [==============================] - 0s 110ms/step - loss: 10.2093 - val_loss: 10.4631\n",
      "Epoch 31/200\n",
      "3/3 [==============================] - 0s 116ms/step - loss: 9.8173 - val_loss: 10.0530\n",
      "Epoch 32/200\n",
      "3/3 [==============================] - 0s 167ms/step - loss: 9.4409 - val_loss: 9.6493\n",
      "Epoch 33/200\n",
      "3/3 [==============================] - 0s 122ms/step - loss: 9.0664 - val_loss: 9.2604\n",
      "Epoch 34/200\n",
      "3/3 [==============================] - 0s 116ms/step - loss: 8.7090 - val_loss: 8.9047\n",
      "Epoch 35/200\n",
      "3/3 [==============================] - 0s 92ms/step - loss: 8.3824 - val_loss: 8.5703\n",
      "Epoch 36/200\n",
      "3/3 [==============================] - 0s 86ms/step - loss: 8.0868 - val_loss: 8.2544\n",
      "Epoch 37/200\n",
      "3/3 [==============================] - 0s 89ms/step - loss: 7.7904 - val_loss: 7.9506\n",
      "Epoch 38/200\n",
      "3/3 [==============================] - 0s 92ms/step - loss: 7.5012 - val_loss: 7.6515\n",
      "Epoch 39/200\n",
      "3/3 [==============================] - 0s 95ms/step - loss: 7.2341 - val_loss: 7.3822\n",
      "Epoch 40/200\n",
      "3/3 [==============================] - 0s 87ms/step - loss: 6.9852 - val_loss: 7.1249\n",
      "Epoch 41/200\n",
      "3/3 [==============================] - 0s 109ms/step - loss: 6.7365 - val_loss: 6.8620\n",
      "Epoch 42/200\n",
      "3/3 [==============================] - 0s 108ms/step - loss: 6.5056 - val_loss: 6.6164\n",
      "Epoch 43/200\n",
      "3/3 [==============================] - 0s 113ms/step - loss: 6.2767 - val_loss: 6.3731\n",
      "Epoch 44/200\n",
      "3/3 [==============================] - 0s 100ms/step - loss: 6.0504 - val_loss: 6.1439\n",
      "Epoch 45/200\n",
      "3/3 [==============================] - 0s 102ms/step - loss: 5.8450 - val_loss: 5.9299\n",
      "Epoch 46/200\n",
      "3/3 [==============================] - 0s 100ms/step - loss: 5.6568 - val_loss: 5.7270\n",
      "Epoch 47/200\n",
      "3/3 [==============================] - 0s 108ms/step - loss: 5.4645 - val_loss: 5.5428\n",
      "Epoch 48/200\n",
      "3/3 [==============================] - 0s 103ms/step - loss: 5.3038 - val_loss: 5.3752\n",
      "Epoch 49/200\n",
      "3/3 [==============================] - 0s 85ms/step - loss: 5.1473 - val_loss: 5.2058\n",
      "Epoch 50/200\n",
      "3/3 [==============================] - 0s 103ms/step - loss: 4.9892 - val_loss: 5.0508\n",
      "Epoch 51/200\n",
      "3/3 [==============================] - 0s 118ms/step - loss: 4.8453 - val_loss: 4.9097\n",
      "Epoch 52/200\n",
      "3/3 [==============================] - 0s 123ms/step - loss: 4.7139 - val_loss: 4.7772\n",
      "Epoch 53/200\n",
      "3/3 [==============================] - 0s 98ms/step - loss: 4.5960 - val_loss: 4.6412\n",
      "Epoch 54/200\n",
      "3/3 [==============================] - 0s 102ms/step - loss: 4.4663 - val_loss: 4.5081\n",
      "Epoch 55/200\n",
      "3/3 [==============================] - 0s 83ms/step - loss: 4.3339 - val_loss: 4.3818\n",
      "Epoch 56/200\n",
      "3/3 [==============================] - 0s 87ms/step - loss: 4.2198 - val_loss: 4.2429\n",
      "Epoch 57/200\n",
      "3/3 [==============================] - 0s 103ms/step - loss: 4.0873 - val_loss: 4.1207\n",
      "Epoch 58/200\n",
      "3/3 [==============================] - 0s 104ms/step - loss: 3.9897 - val_loss: 4.0065\n",
      "Epoch 59/200\n",
      "3/3 [==============================] - 0s 101ms/step - loss: 3.8878 - val_loss: 3.8845\n",
      "Epoch 60/200\n",
      "3/3 [==============================] - 0s 87ms/step - loss: 3.7567 - val_loss: 3.7789\n",
      "Epoch 61/200\n",
      "3/3 [==============================] - 0s 124ms/step - loss: 3.6720 - val_loss: 3.6835\n",
      "Epoch 62/200\n",
      "3/3 [==============================] - 0s 138ms/step - loss: 3.5782 - val_loss: 3.5807\n",
      "Epoch 63/200\n",
      "3/3 [==============================] - 0s 92ms/step - loss: 3.4946 - val_loss: 3.4920\n",
      "Epoch 64/200\n",
      "3/3 [==============================] - 0s 103ms/step - loss: 3.4047 - val_loss: 3.3981\n",
      "Epoch 65/200\n",
      "3/3 [==============================] - 0s 101ms/step - loss: 3.3156 - val_loss: 3.3020\n",
      "Epoch 66/200\n",
      "3/3 [==============================] - 0s 131ms/step - loss: 3.2354 - val_loss: 3.2152\n",
      "Epoch 67/200\n",
      "3/3 [==============================] - 0s 106ms/step - loss: 3.1506 - val_loss: 3.1289\n",
      "Epoch 68/200\n",
      "3/3 [==============================] - 0s 87ms/step - loss: 3.0712 - val_loss: 3.0308\n",
      "Epoch 69/200\n",
      "3/3 [==============================] - 0s 106ms/step - loss: 2.9913 - val_loss: 2.9551\n",
      "Epoch 70/200\n",
      "3/3 [==============================] - 0s 114ms/step - loss: 2.9221 - val_loss: 2.8817\n",
      "Epoch 71/200\n",
      "3/3 [==============================] - 0s 105ms/step - loss: 2.8586 - val_loss: 2.8145\n",
      "Epoch 72/200\n",
      "3/3 [==============================] - 0s 129ms/step - loss: 2.7873 - val_loss: 2.7587\n",
      "Epoch 73/200\n",
      "3/3 [==============================] - 0s 125ms/step - loss: 2.7327 - val_loss: 2.6929\n",
      "Epoch 74/200\n",
      "3/3 [==============================] - 0s 116ms/step - loss: 2.6790 - val_loss: 2.6375\n",
      "Epoch 75/200\n",
      "3/3 [==============================] - 0s 136ms/step - loss: 2.6243 - val_loss: 2.5859\n",
      "Epoch 76/200\n",
      "3/3 [==============================] - 0s 106ms/step - loss: 2.5873 - val_loss: 2.5325\n",
      "Epoch 77/200\n",
      "3/3 [==============================] - 0s 118ms/step - loss: 2.5406 - val_loss: 2.4791\n",
      "Epoch 78/200\n",
      "3/3 [==============================] - 0s 89ms/step - loss: 2.4900 - val_loss: 2.4306\n",
      "Epoch 79/200\n",
      "3/3 [==============================] - 0s 106ms/step - loss: 2.4454 - val_loss: 2.3953\n",
      "Epoch 80/200\n",
      "3/3 [==============================] - 0s 148ms/step - loss: 2.4138 - val_loss: 2.3632\n",
      "Epoch 81/200\n",
      "3/3 [==============================] - 0s 141ms/step - loss: 2.3802 - val_loss: 2.3227\n",
      "Epoch 82/200\n"
     ]
    },
    {
     "name": "stdout",
     "output_type": "stream",
     "text": [
      "3/3 [==============================] - 0s 123ms/step - loss: 2.3494 - val_loss: 2.2833\n",
      "Epoch 83/200\n",
      "3/3 [==============================] - 0s 136ms/step - loss: 2.3127 - val_loss: 2.2499\n",
      "Epoch 84/200\n",
      "3/3 [==============================] - 0s 153ms/step - loss: 2.2815 - val_loss: 2.2177\n",
      "Epoch 85/200\n",
      "3/3 [==============================] - 0s 94ms/step - loss: 2.2460 - val_loss: 2.1929\n",
      "Epoch 86/200\n",
      "3/3 [==============================] - 0s 118ms/step - loss: 2.2270 - val_loss: 2.1718\n",
      "Epoch 87/200\n",
      "3/3 [==============================] - 0s 114ms/step - loss: 2.2133 - val_loss: 2.1344\n",
      "Epoch 88/200\n",
      "3/3 [==============================] - 0s 111ms/step - loss: 2.1721 - val_loss: 2.1000\n",
      "Epoch 89/200\n",
      "3/3 [==============================] - 0s 105ms/step - loss: 2.1419 - val_loss: 2.0632\n",
      "Epoch 90/200\n",
      "3/3 [==============================] - 0s 117ms/step - loss: 2.1075 - val_loss: 2.0231\n",
      "Epoch 91/200\n",
      "3/3 [==============================] - 0s 121ms/step - loss: 2.0651 - val_loss: 1.9811\n",
      "Epoch 92/200\n",
      "3/3 [==============================] - 0s 109ms/step - loss: 2.0321 - val_loss: 1.9435\n",
      "Epoch 93/200\n",
      "3/3 [==============================] - 0s 110ms/step - loss: 1.9959 - val_loss: 1.9055\n",
      "Epoch 94/200\n",
      "3/3 [==============================] - 0s 110ms/step - loss: 1.9682 - val_loss: 1.8704\n",
      "Epoch 95/200\n",
      "3/3 [==============================] - 0s 113ms/step - loss: 1.9320 - val_loss: 1.8390\n",
      "Epoch 96/200\n",
      "3/3 [==============================] - 0s 111ms/step - loss: 1.9060 - val_loss: 1.8097\n",
      "Epoch 97/200\n",
      "3/3 [==============================] - 0s 106ms/step - loss: 1.8765 - val_loss: 1.7808\n",
      "Epoch 98/200\n",
      "3/3 [==============================] - 0s 100ms/step - loss: 1.8509 - val_loss: 1.7505\n",
      "Epoch 99/200\n",
      "3/3 [==============================] - 0s 105ms/step - loss: 1.8240 - val_loss: 1.7200\n",
      "Epoch 100/200\n",
      "3/3 [==============================] - 0s 106ms/step - loss: 1.7973 - val_loss: 1.6862\n",
      "Epoch 101/200\n",
      "3/3 [==============================] - 0s 98ms/step - loss: 1.7762 - val_loss: 1.6581\n",
      "Epoch 102/200\n",
      "3/3 [==============================] - 0s 108ms/step - loss: 1.7450 - val_loss: 1.6267\n",
      "Epoch 103/200\n",
      "3/3 [==============================] - 0s 106ms/step - loss: 1.7178 - val_loss: 1.6035\n",
      "Epoch 104/200\n",
      "3/3 [==============================] - 0s 106ms/step - loss: 1.6933 - val_loss: 1.5853\n",
      "Epoch 105/200\n",
      "3/3 [==============================] - 0s 103ms/step - loss: 1.6860 - val_loss: 1.5594\n",
      "Epoch 106/200\n",
      "3/3 [==============================] - 0s 106ms/step - loss: 1.6548 - val_loss: 1.5318\n",
      "Epoch 107/200\n",
      "3/3 [==============================] - 0s 98ms/step - loss: 1.6420 - val_loss: 1.5147\n",
      "Epoch 108/200\n",
      "3/3 [==============================] - 0s 119ms/step - loss: 1.6179 - val_loss: 1.4920\n",
      "Epoch 109/200\n",
      "3/3 [==============================] - 0s 117ms/step - loss: 1.6072 - val_loss: 1.4705\n",
      "Epoch 110/200\n",
      "3/3 [==============================] - 0s 118ms/step - loss: 1.5804 - val_loss: 1.4599\n",
      "Epoch 111/200\n",
      "3/3 [==============================] - 0s 104ms/step - loss: 1.5682 - val_loss: 1.4341\n",
      "Epoch 112/200\n",
      "3/3 [==============================] - 0s 110ms/step - loss: 1.5366 - val_loss: 1.4102\n",
      "Epoch 113/200\n",
      "3/3 [==============================] - 0s 108ms/step - loss: 1.5306 - val_loss: 1.3996\n",
      "Epoch 114/200\n",
      "3/3 [==============================] - 0s 105ms/step - loss: 1.5232 - val_loss: 1.3750\n",
      "Epoch 115/200\n",
      "3/3 [==============================] - 0s 101ms/step - loss: 1.4944 - val_loss: 1.3566\n",
      "Epoch 116/200\n",
      "3/3 [==============================] - 0s 104ms/step - loss: 1.4738 - val_loss: 1.3423\n",
      "Epoch 117/200\n",
      "3/3 [==============================] - 0s 97ms/step - loss: 1.4700 - val_loss: 1.3280\n",
      "Epoch 118/200\n",
      "3/3 [==============================] - 0s 103ms/step - loss: 1.4450 - val_loss: 1.3089\n",
      "Epoch 119/200\n",
      "3/3 [==============================] - 0s 99ms/step - loss: 1.4290 - val_loss: 1.2957\n",
      "Epoch 120/200\n",
      "3/3 [==============================] - 0s 100ms/step - loss: 1.4167 - val_loss: 1.2723\n",
      "Epoch 121/200\n",
      "3/3 [==============================] - 0s 120ms/step - loss: 1.3976 - val_loss: 1.2607\n",
      "Epoch 122/200\n",
      "3/3 [==============================] - 0s 109ms/step - loss: 1.3878 - val_loss: 1.2441\n",
      "Epoch 123/200\n",
      "3/3 [==============================] - 0s 110ms/step - loss: 1.3760 - val_loss: 1.2256\n",
      "Epoch 124/200\n",
      "3/3 [==============================] - 0s 108ms/step - loss: 1.3555 - val_loss: 1.2117\n",
      "Epoch 125/200\n",
      "3/3 [==============================] - 0s 114ms/step - loss: 1.3446 - val_loss: 1.1950\n",
      "Epoch 126/200\n",
      "3/3 [==============================] - 0s 99ms/step - loss: 1.3278 - val_loss: 1.1769\n",
      "Epoch 127/200\n",
      "3/3 [==============================] - 0s 110ms/step - loss: 1.3033 - val_loss: 1.1684\n",
      "Epoch 128/200\n",
      "3/3 [==============================] - 0s 108ms/step - loss: 1.3043 - val_loss: 1.1549\n",
      "Epoch 129/200\n",
      "3/3 [==============================] - 0s 104ms/step - loss: 1.2911 - val_loss: 1.1447\n",
      "Epoch 130/200\n",
      "3/3 [==============================] - 0s 114ms/step - loss: 1.2745 - val_loss: 1.1358\n",
      "Epoch 131/200\n",
      "3/3 [==============================] - 0s 105ms/step - loss: 1.2664 - val_loss: 1.1232\n",
      "Epoch 132/200\n",
      "3/3 [==============================] - 0s 94ms/step - loss: 1.2569 - val_loss: 1.1118\n",
      "Epoch 133/200\n",
      "3/3 [==============================] - 0s 94ms/step - loss: 1.2447 - val_loss: 1.0999\n",
      "Epoch 134/200\n",
      "3/3 [==============================] - 0s 103ms/step - loss: 1.2342 - val_loss: 1.0876\n",
      "Epoch 135/200\n",
      "3/3 [==============================] - 0s 109ms/step - loss: 1.2236 - val_loss: 1.0739\n",
      "Epoch 136/200\n",
      "3/3 [==============================] - 0s 109ms/step - loss: 1.2083 - val_loss: 1.0644\n",
      "Epoch 137/200\n",
      "3/3 [==============================] - 0s 97ms/step - loss: 1.2088 - val_loss: 1.0624\n",
      "Epoch 138/200\n",
      "3/3 [==============================] - 0s 112ms/step - loss: 1.2042 - val_loss: 1.0477\n",
      "Epoch 139/200\n",
      "3/3 [==============================] - 0s 109ms/step - loss: 1.1835 - val_loss: 1.0432\n",
      "Epoch 140/200\n",
      "3/3 [==============================] - 0s 107ms/step - loss: 1.1816 - val_loss: 1.0313\n",
      "Epoch 141/200\n",
      "3/3 [==============================] - 0s 113ms/step - loss: 1.1693 - val_loss: 1.0050\n",
      "Epoch 142/200\n",
      "3/3 [==============================] - 0s 107ms/step - loss: 1.1532 - val_loss: 0.9947\n",
      "Epoch 143/200\n",
      "3/3 [==============================] - 0s 108ms/step - loss: 1.1388 - val_loss: 0.9782\n",
      "Epoch 144/200\n",
      "3/3 [==============================] - 0s 101ms/step - loss: 1.1200 - val_loss: 0.9672\n",
      "Epoch 145/200\n",
      "3/3 [==============================] - 0s 114ms/step - loss: 1.1080 - val_loss: 0.9520\n",
      "Epoch 146/200\n",
      "3/3 [==============================] - 0s 110ms/step - loss: 1.1019 - val_loss: 0.9435\n",
      "Epoch 147/200\n",
      "3/3 [==============================] - 0s 92ms/step - loss: 1.0928 - val_loss: 0.9308\n",
      "Epoch 148/200\n",
      "3/3 [==============================] - 0s 118ms/step - loss: 1.0809 - val_loss: 0.9218\n",
      "Epoch 149/200\n",
      "3/3 [==============================] - 0s 112ms/step - loss: 1.0782 - val_loss: 0.9194\n",
      "Epoch 150/200\n",
      "3/3 [==============================] - 0s 108ms/step - loss: 1.0686 - val_loss: 0.9116\n",
      "Epoch 151/200\n",
      "3/3 [==============================] - 0s 106ms/step - loss: 1.0579 - val_loss: 0.8982\n",
      "Epoch 152/200\n",
      "3/3 [==============================] - 0s 120ms/step - loss: 1.0514 - val_loss: 0.8962\n",
      "Epoch 153/200\n",
      "3/3 [==============================] - 0s 109ms/step - loss: 1.0539 - val_loss: 0.8884\n",
      "Epoch 154/200\n",
      "3/3 [==============================] - 0s 98ms/step - loss: 1.0366 - val_loss: 0.8754\n",
      "Epoch 155/200\n",
      "3/3 [==============================] - 0s 97ms/step - loss: 1.0247 - val_loss: 0.8704\n",
      "Epoch 156/200\n",
      "3/3 [==============================] - 0s 105ms/step - loss: 1.0251 - val_loss: 0.8625\n",
      "Epoch 157/200\n",
      "3/3 [==============================] - 0s 108ms/step - loss: 1.0172 - val_loss: 0.8487\n",
      "Epoch 158/200\n",
      "3/3 [==============================] - 0s 101ms/step - loss: 1.0095 - val_loss: 0.8410\n",
      "Epoch 159/200\n",
      "3/3 [==============================] - 0s 118ms/step - loss: 0.9977 - val_loss: 0.8346\n",
      "Epoch 160/200\n",
      "3/3 [==============================] - 0s 107ms/step - loss: 0.9852 - val_loss: 0.8227\n",
      "Epoch 161/200\n",
      "3/3 [==============================] - 0s 105ms/step - loss: 0.9789 - val_loss: 0.8183\n",
      "Epoch 162/200\n",
      "3/3 [==============================] - 0s 102ms/step - loss: 0.9872 - val_loss: 0.8087\n",
      "Epoch 163/200\n"
     ]
    },
    {
     "name": "stdout",
     "output_type": "stream",
     "text": [
      "3/3 [==============================] - 0s 100ms/step - loss: 0.9641 - val_loss: 0.7949\n",
      "Epoch 164/200\n",
      "3/3 [==============================] - 0s 112ms/step - loss: 0.9533 - val_loss: 0.7903\n",
      "Epoch 165/200\n",
      "3/3 [==============================] - 0s 103ms/step - loss: 0.9410 - val_loss: 0.7706\n",
      "Epoch 166/200\n",
      "3/3 [==============================] - 0s 107ms/step - loss: 0.9371 - val_loss: 0.7653\n",
      "Epoch 167/200\n",
      "3/3 [==============================] - 0s 102ms/step - loss: 0.9274 - val_loss: 0.7585\n",
      "Epoch 168/200\n",
      "3/3 [==============================] - 0s 113ms/step - loss: 0.9195 - val_loss: 0.7463\n",
      "Epoch 169/200\n",
      "3/3 [==============================] - 0s 132ms/step - loss: 0.9036 - val_loss: 0.7401\n",
      "Epoch 170/200\n",
      "3/3 [==============================] - 0s 120ms/step - loss: 0.9073 - val_loss: 0.7319\n",
      "Epoch 171/200\n",
      "3/3 [==============================] - 0s 120ms/step - loss: 0.8972 - val_loss: 0.7255\n",
      "Epoch 172/200\n",
      "3/3 [==============================] - 0s 104ms/step - loss: 0.8856 - val_loss: 0.7208\n",
      "Epoch 173/200\n",
      "3/3 [==============================] - 0s 108ms/step - loss: 0.8807 - val_loss: 0.7140\n",
      "Epoch 174/200\n",
      "3/3 [==============================] - 0s 116ms/step - loss: 0.8767 - val_loss: 0.7037\n",
      "Epoch 175/200\n",
      "3/3 [==============================] - 0s 109ms/step - loss: 0.8688 - val_loss: 0.6965\n",
      "Epoch 176/200\n",
      "3/3 [==============================] - 0s 104ms/step - loss: 0.8701 - val_loss: 0.7010\n",
      "Epoch 177/200\n",
      "3/3 [==============================] - 0s 146ms/step - loss: 0.8682 - val_loss: 0.6859\n",
      "Epoch 178/200\n",
      "3/3 [==============================] - 0s 127ms/step - loss: 0.8474 - val_loss: 0.6873\n",
      "Epoch 179/200\n",
      "3/3 [==============================] - 0s 123ms/step - loss: 0.8455 - val_loss: 0.6768\n",
      "Epoch 180/200\n",
      "3/3 [==============================] - 0s 132ms/step - loss: 0.8451 - val_loss: 0.6743\n",
      "Epoch 181/200\n",
      "3/3 [==============================] - 0s 133ms/step - loss: 0.8435 - val_loss: 0.6673\n",
      "Epoch 182/200\n",
      "3/3 [==============================] - 0s 159ms/step - loss: 0.8295 - val_loss: 0.6795\n",
      "Epoch 183/200\n",
      "3/3 [==============================] - 0s 136ms/step - loss: 0.8461 - val_loss: 0.6592\n",
      "Epoch 184/200\n",
      "3/3 [==============================] - 0s 99ms/step - loss: 0.8208 - val_loss: 0.6516\n",
      "Epoch 185/200\n",
      "3/3 [==============================] - 0s 132ms/step - loss: 0.8151 - val_loss: 0.6415\n",
      "Epoch 186/200\n",
      "3/3 [==============================] - 0s 109ms/step - loss: 0.8155 - val_loss: 0.6488\n",
      "Epoch 187/200\n",
      "3/3 [==============================] - 0s 111ms/step - loss: 0.8249 - val_loss: 0.6521\n",
      "Epoch 188/200\n",
      "3/3 [==============================] - 0s 123ms/step - loss: 0.8151 - val_loss: 0.6313\n",
      "Epoch 189/200\n",
      "3/3 [==============================] - 0s 120ms/step - loss: 0.8044 - val_loss: 0.6327\n",
      "Epoch 190/200\n",
      "3/3 [==============================] - 0s 138ms/step - loss: 0.7981 - val_loss: 0.6141\n",
      "Epoch 191/200\n",
      "3/3 [==============================] - 0s 110ms/step - loss: 0.7914 - val_loss: 0.6150\n",
      "Epoch 192/200\n",
      "3/3 [==============================] - 0s 127ms/step - loss: 0.7874 - val_loss: 0.6123\n",
      "Epoch 193/200\n",
      "3/3 [==============================] - 0s 116ms/step - loss: 0.7708 - val_loss: 0.5971\n",
      "Epoch 194/200\n",
      "3/3 [==============================] - 0s 137ms/step - loss: 0.7748 - val_loss: 0.5989\n",
      "Epoch 195/200\n",
      "3/3 [==============================] - 0s 103ms/step - loss: 0.7701 - val_loss: 0.5947\n",
      "Epoch 196/200\n",
      "3/3 [==============================] - 0s 143ms/step - loss: 0.7683 - val_loss: 0.5842\n",
      "Epoch 197/200\n",
      "3/3 [==============================] - 0s 108ms/step - loss: 0.7540 - val_loss: 0.5821\n",
      "Epoch 198/200\n",
      "3/3 [==============================] - 0s 118ms/step - loss: 0.7584 - val_loss: 0.5726\n",
      "Epoch 199/200\n",
      "3/3 [==============================] - 0s 122ms/step - loss: 0.7412 - val_loss: 0.5722\n",
      "Epoch 200/200\n",
      "3/3 [==============================] - 0s 126ms/step - loss: 0.7394 - val_loss: 0.5651\n"
     ]
    }
   ],
   "source": [
    "history = model.fit(X, y, epochs=200, batch_size=4096, validation_split=0.10)"
   ]
  },
  {
   "cell_type": "code",
   "execution_count": 22,
   "metadata": {},
   "outputs": [
    {
     "data": {
      "text/plain": [
       "(array([-5.,  0.,  5., 10., 15., 20., 25., 30., 35., 40., 45.]),\n",
       " <a list of 11 Text major ticklabel objects>)"
      ]
     },
     "execution_count": 22,
     "metadata": {},
     "output_type": "execute_result"
    },
    {
     "data": {
      "image/png": "[encoded data removed]",
      "text/plain": [
       "<Figure size 460.8x316.8 with 1 Axes>"
      ]
     },
     "metadata": {
      "needs_background": "light"
     },
     "output_type": "display_data"
    }
   ],
   "source": [
    "plt.style.use('seaborn-paper')\n",
    "valid = history.history\n",
    "\n",
    "plt.plot(np.array(valid['loss']), label='Training',  color='blue', linewidth= 2)\n",
    "plt.plot(np.array(valid['val_loss']), label='Validation',  color='red', linewidth= 2)\n",
    "plt.xlim(0)\n",
    "plt.grid(True)\n",
    "plt.xlabel('Epochs', fontsize=15)\n",
    "plt.ylabel('Loss', fontsize=15)\n",
    "plt.legend(loc='best', fontsize=15)\n",
    "plt.xticks(fontsize=15)\n",
    "plt.yticks(fontsize=15)"
   ]
  },
  {
   "cell_type": "code",
   "execution_count": 23,
   "metadata": {},
   "outputs": [
    {
     "name": "stdout",
     "output_type": "stream",
     "text": [
      "[[[0.86548334 3.3237326  3.0313702 ]\n",
      "  [1.0656813  3.280413   3.1723301 ]\n",
      "  [1.0982907  3.2995045  3.2949293 ]\n",
      "  [1.1338223  3.326379   3.377006  ]]] \n",
      "\n",
      " [[[1.0593     3.26895    3.23935652]\n",
      "  [1.0618     3.2777     3.23833423]\n",
      "  [1.1015     3.4139     3.22539618]\n",
      "  [1.104      3.42265    3.22445287]]]\n"
     ]
    }
   ],
   "source": [
    "# is it good enough (just by eye)\n",
    "print (model.predict(X[0:1]), '\\n\\n', y[0:1])"
   ]
  },
  {
   "cell_type": "markdown",
   "metadata": {},
   "source": [
    "### can you implement a kD-Tree to search for the nearest neighbors\n",
    "look at [scikit-learn](https://scikit-learn.org/stable/modules/generated/sklearn.neighbors.KDTree.html)"
   ]
  },
  {
   "cell_type": "code",
   "execution_count": null,
   "metadata": {},
   "outputs": [],
   "source": []
  }
 ],
 "metadata": {
  "kernelspec": {
   "display_name": "Python 3",
   "language": "python",
   "name": "python3"
  },
  "language_info": {
   "codemirror_mode": {
    "name": "ipython",
    "version": 3
   },
   "file_extension": ".py",
   "mimetype": "text/x-python",
   "name": "python",
   "nbconvert_exporter": "python",
   "pygments_lexer": "ipython3",
   "version": "3.8.3"
  }
 },
 "nbformat": 4,
 "nbformat_minor": 4
}
